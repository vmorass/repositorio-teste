{
  "nbformat": 4,
  "nbformat_minor": 0,
  "metadata": {
    "colab": {
      "provenance": [],
      "authorship_tag": "ABX9TyPbWXlezJb65y9/LwvHrDir",
      "include_colab_link": true
    },
    "kernelspec": {
      "name": "python3",
      "display_name": "Python 3"
    },
    "language_info": {
      "name": "python"
    }
  },
  "cells": [
    {
      "cell_type": "markdown",
      "metadata": {
        "id": "view-in-github",
        "colab_type": "text"
      },
      "source": [
        "<a href=\"https://colab.research.google.com/github/vmorass/repositorio-teste/blob/main/inicia%C3%A7%C3%A3o_ao_python.ipynb\" target=\"_parent\"><img src=\"https://colab.research.google.com/assets/colab-badge.svg\" alt=\"Open In Colab\"/></a>"
      ]
    },
    {
      "cell_type": "markdown",
      "source": [
        "## Aula 1"
      ],
      "metadata": {
        "id": "tIS03N0N4Oib"
      }
    },
    {
      "cell_type": "code",
      "source": [
        "print(\"I competição e Programação da Start\")"
      ],
      "metadata": {
        "colab": {
          "base_uri": "https://localhost:8080/"
        },
        "id": "rT967Ffq5ZMl",
        "outputId": "dc406792-b509-4c11-8259-da5e84ad13d0"
      },
      "execution_count": null,
      "outputs": [
        {
          "output_type": "stream",
          "name": "stdout",
          "text": [
            "I competição e Programação da Start\n"
          ]
        }
      ]
    },
    {
      "cell_type": "code",
      "metadata": {
        "colab": {
          "base_uri": "https://localhost:8080/"
        },
        "id": "1rOTmXbdV5E",
        "outputId": "190cb0a8-37dc-49df-9b33-1cfdd1cf4959"
      },
      "source": [
        "ano = \"II\"\n",
        "print(ano, \"Competição de Programação da Start\")"
      ],
      "execution_count": null,
      "outputs": [
        {
          "output_type": "stream",
          "name": "stdout",
          "text": [
            "II Competição de Programação da Start\n"
          ]
        }
      ]
    },
    {
      "cell_type": "code",
      "source": [
        "print(f\"{ano} Competição de programação a Start\")"
      ],
      "metadata": {
        "colab": {
          "base_uri": "https://localhost:8080/"
        },
        "id": "wY0VqbuLYw89",
        "outputId": "13b0822d-df69-4c12-8367-9ca3d22c9c35"
      },
      "execution_count": null,
      "outputs": [
        {
          "output_type": "stream",
          "name": "stdout",
          "text": [
            "II Competição de programação a Start\n"
          ]
        }
      ]
    },
    {
      "cell_type": "markdown",
      "source": [
        "## Aula 2"
      ],
      "metadata": {
        "id": "0v_ZrTGxaU4Y"
      }
    },
    {
      "cell_type": "markdown",
      "source": [
        "Contexto:\n",
        "\n",
        "Uma escola está promovendo uma campanha de incentivo à leitura, em que cada\n",
        "estudante recebe pontos ao concluir livros. Esses pontos podem ser trocados por diferentes prêmios da escola. As cateorias de livros têm valores de pontos diferentes:\n",
        "\n",
        "   *   Ficção:10 pontos\n",
        "   *   Não-ficção: 8 pontos\n",
        "   *   Infanis: 6 pontos\n",
        "\n",
        "\n",
        "   Infantis: 6 pontos\n",
        "Problema:\n",
        "Rodrigo leu um livro de cada catgoria. Agora ele quer saber quantos pontos ele acumulou com sua leitura.\n",
        "\n",
        "\n",
        "*   Armazene a pontuação de cada categoria de livro em uma variável.\n",
        "*   Calcule o total de pontos acumulados por Rodrigo.\n",
        "*   Mostre na tela o total de pontos acumulados por Rodrigo.\n",
        "\n",
        "\n",
        "\n",
        "\n",
        "\n",
        "\n",
        "\n"
      ],
      "metadata": {
        "id": "Q6jb6PEZbkux"
      }
    },
    {
      "cell_type": "code",
      "source": [
        "livro_ficcao = 10\n",
        "livro_nficcao = 8\n",
        "livro_infantil= 6\n",
        "\n",
        " pontos de"
      ],
      "metadata": {
        "id": "gpmPrV1t8D3f"
      },
      "execution_count": null,
      "outputs": []
    }
  ]
}